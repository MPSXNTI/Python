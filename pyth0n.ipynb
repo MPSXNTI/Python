{
  "nbformat": 4,
  "nbformat_minor": 0,
  "metadata": {
    "colab": {
      "provenance": []
    },
    "kernelspec": {
      "name": "python3",
      "display_name": "Python 3"
    },
    "language_info": {
      "name": "python"
    }
  },
  "cells": [
    {
      "cell_type": "markdown",
      "source": [
        "Ejercicios hechos en clases"
      ],
      "metadata": {
        "id": "XUk--UKEOfSu"
      }
    },
    {
      "cell_type": "code",
      "execution_count": null,
      "metadata": {
        "id": "tXdl6GpoENeg"
      },
      "outputs": [],
      "source": [
        "nombre = [\"Manuel Ponce\", \"Byron Oñate\", \"Damian San Martin\", \"Vicente Fernandez\"]\n",
        "edad = [18, 23, 33, 20]\n",
        "estudiantes = [nombre, edad]\n",
        "fundaProgra = [estudiantes]\n",
        "suma = 0\n",
        "for i in edad:\n",
        "    suma = suma + i\n",
        "promedio = suma / len(edad)\n",
        "mayor = max(edad)\n",
        "\n",
        "print(\"Promedio edad: \", promedio, \"Estudiante mayor: \", mayor)"
      ]
    },
    {
      "cell_type": "code",
      "source": [
        "print(\"Ingrese el primer valor\")\n",
        "datos_1 = int(input())\n",
        "\n",
        "print(\"Ingrese la operacion a resolver\")\n",
        "datos_2 = str(input())\n",
        "\n",
        "print(\"Ingrese el segundo valor\")\n",
        "datos_3 = int(input())\n",
        "\n",
        "if datos_2 == \"+\" :\n",
        "    resultado = datos_1 + datos_3\n",
        "elif datos_2 == \"-\" :\n",
        "    resultado = datos_1 - datos_3\n",
        "elif datos_2 == \"*\" :\n",
        "    resultado = datos_1 * datos_3\n",
        "elif datos_2 == \"/\" :\n",
        "    resultado = datos_1 / datos_3\n",
        "elif datos_2 == \"%\" :\n",
        "    resultado = datos_1 % datos_3\n",
        "\n",
        "print(\"El resultado es: \", resultado)"
      ],
      "metadata": {
        "id": "nWlrlHPvEXxo"
      },
      "execution_count": null,
      "outputs": []
    },
    {
      "cell_type": "code",
      "source": [
        "edad = 0\n",
        "ingreso = 0\n",
        "print(\"Ingrese su edad\")\n",
        "edad = int(input())\n",
        "if edad >= 18:\n",
        "    print(\"Cuanto es su ingreso\")\n",
        "    ingreso = int(input())\n",
        "    if ingreso >= 1000000:\n",
        "        print(\"Puede atributar\")\n",
        "    else:\n",
        "        print(\"No puede atributar\")\n",
        "else:\n",
        "    print(\"No tiene que atributar\")"
      ],
      "metadata": {
        "id": "QCOf_yk8EiVH"
      },
      "execution_count": null,
      "outputs": []
    },
    {
      "cell_type": "code",
      "source": [
        "def verificarTamanio(palabra):\n",
        "    if len(palabra) <= 30:\n",
        "        return True\n",
        "    else:\n",
        "        return False\n",
        "\n",
        "#############################################################################################################################################\n",
        "\n",
        "def verificarBlancos(palabra):\n",
        "    if \" \" in palabra:\n",
        "        return True\n",
        "    else:\n",
        "        return False\n",
        "\n",
        "#############################################################################################################################################\n",
        "\n",
        "def encript(valides, palabra):\n",
        "    if valides == True:\n",
        "        valides_blancos = verificarBlancos(palabra)\n",
        "        if valides_blancos == False:\n",
        "            print(\"Palabra valida para encriptar\")\n",
        "        else:\n",
        "            print(\"error, palabra no validad para encriptar\")\n",
        "    else:\n",
        "        print(\"error, palabra no valida para encriptar\")\n",
        "\n",
        "#############################################################################################################################################\n",
        "\n",
        "palabra = input(\"ingrese mensaje: \")\n",
        "valides = verificarTamanio(palabra)\n",
        "encript(valides, palabra)"
      ],
      "metadata": {
        "id": "ELicqkJuEl2v"
      },
      "execution_count": null,
      "outputs": []
    },
    {
      "cell_type": "code",
      "source": [
        "suma_sueldos = 0\n",
        "print(\"Ingrese la cantidad de empleados que posee\")\n",
        "cantidad_empleados = int(input())\n",
        "\n",
        "for i in range(cantidad_empleados):\n",
        "    print(\"Ingrese el sueldo del empleado\")\n",
        "    sueldo_empleado = int(input())\n",
        "    print(\"Ingrese la cantidad de horas que trabaja ese empleado\")\n",
        "    horas = int(input())\n",
        "    suma_sueldos = suma_sueldos + sueldo_empleado * horas\n",
        "\n",
        "print(\"su gasto total en sueldo liquido es: \", suma_sueldos)\n",
        "bruto = suma_sueldos * 0.8\n",
        "print(\"En bruto es: \", bruto)"
      ],
      "metadata": {
        "id": "GBCU_xbBEpdm"
      },
      "execution_count": null,
      "outputs": []
    },
    {
      "cell_type": "code",
      "source": [
        "texto_i = \"\"\n",
        "print(\"Ingrese texto:\")\n",
        "texto = str(input())\n",
        "for i in range(len(texto)-1, -1, -1):\n",
        "    letra = texto[i]\n",
        "    texto_i += letra\n",
        "print(texto_i)"
      ],
      "metadata": {
        "id": "02c63C1LEsKn"
      },
      "execution_count": null,
      "outputs": []
    },
    {
      "cell_type": "code",
      "source": [
        "leet = \"\"\n",
        "print(\"Ingrese una palabra\")\n",
        "palabra = str(input())\n",
        "palabra = palabra.lower()\n",
        "for i in palabra:\n",
        "    if i == \"a\":\n",
        "        leet += \"4\"\n",
        "    elif i == \"b\":\n",
        "        leet += \"8\"\n",
        "    elif i == \"e\":\n",
        "        leet += \"3\"\n",
        "    elif i == \"g\":\n",
        "        leet += \"9\"\n",
        "    elif i == \"i\":\n",
        "        leet += \"1\"\n",
        "    elif i == \"l\":\n",
        "        leet += \"1\"\n",
        "    elif i == \"o\":\n",
        "        leet += \"0\"\n",
        "    elif i == \"s\":\n",
        "        leet += \"5\"\n",
        "    elif i == \"t\":\n",
        "        leet += \"7\"\n",
        "    elif i == \"z\":\n",
        "        leet += \"2\"\n",
        "    else:\n",
        "        leet += i\n",
        "print(leet)"
      ],
      "metadata": {
        "id": "xhwKmqw8E4FW"
      },
      "execution_count": null,
      "outputs": []
    },
    {
      "cell_type": "code",
      "source": [
        "horas_trabajo = 0\n",
        "pago_hora = 0\n",
        "sueldo_B = 0\n",
        "sueldo_L = 0\n",
        "\n",
        "print(\"Ingrese sus horas de trabajo\")\n",
        "horas_trabajo = int(input())\n",
        "\n",
        "print(\"Ingrese cuanto gano x hora\")\n",
        "pago_hora = int(input())\n",
        "\n",
        "sueldo_B = horas_trabajo * pago_hora\n",
        "sueldo_L = sueldo_B * 0.8\n",
        "\n",
        "print(\"su sueldo Bruto es: \", sueldo_B)\n",
        "print(\"Su sueldo liquido es: \", sueldo_L)"
      ],
      "metadata": {
        "id": "y7RsxlPNE6lG"
      },
      "execution_count": null,
      "outputs": []
    },
    {
      "cell_type": "code",
      "source": [
        "print(\"Ingrese un número\")\n",
        "num = int(input())\n",
        "if num % 2 == 0:\n",
        "    print(\"El número \",num,\" Es par\")\n",
        "else:\n",
        "    print(\"El número \",num,\" Es impar\")"
      ],
      "metadata": {
        "id": "GpJ6RjN9E9OX"
      },
      "execution_count": null,
      "outputs": []
    },
    {
      "cell_type": "code",
      "source": [
        "print(\"Ingrese su sueldo\")\n",
        "sueldo_ingresado = int(input())\n",
        "if sueldo_ingresado > 2000000 :\n",
        "    sueldo_final = sueldo_ingresado - int(sueldo_ingresado * 0.15)\n",
        "    print(\"Su sueldo final es: \", sueldo_final)\n",
        "elif 1000000 <= sueldo_ingresado and sueldo_ingresado < 2000000 :\n",
        "    sueldo_final = sueldo_ingresado - int(sueldo_ingresado * 0.10)\n",
        "    print(\"Su sueldo final es: \", sueldo_final)\n",
        "elif sueldo_ingresado <= 500000 :\n",
        "    sueldo_final = sueldo_ingresado + int(sueldo_ingresado * 0.10)\n",
        "    print(\"Su sueldo final es: \", sueldo_final)"
      ],
      "metadata": {
        "id": "NWeVgHqWE_rm"
      },
      "execution_count": null,
      "outputs": []
    },
    {
      "cell_type": "code",
      "source": [
        "print(\"Ingrese un numero entre el 1 al 9.\")\n",
        "n = int(input())\n",
        "while (n <= 0 or n >= 10):\n",
        "    print(\"ERROR, ERES PELOTUDO O TE HACES\")\n",
        "    print(\"Ingrese un numero entre el 1 al 9.\")\n",
        "    n = int(input())"
      ],
      "metadata": {
        "id": "ppX7KEYSFCXH"
      },
      "execution_count": null,
      "outputs": []
    },
    {
      "cell_type": "code",
      "source": [],
      "metadata": {
        "id": "c1JJd3xzFGhI"
      },
      "execution_count": null,
      "outputs": []
    }
  ]
}