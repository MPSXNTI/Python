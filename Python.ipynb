{
  "nbformat": 4,
  "nbformat_minor": 0,
  "metadata": {
    "colab": {
      "provenance": []
    },
    "kernelspec": {
      "name": "python3",
      "display_name": "Python 3"
    },
    "language_info": {
      "name": "python"
    }
  },
  "cells": [
    {
      "cell_type": "markdown",
      "source": [
        "Ejercicio Edad.PY"
      ],
      "metadata": {
        "id": "24Knu8gvkwK2"
      }
    },
    {
      "cell_type": "code",
      "source": [
        "# -*- coding: utf-8 -*-\n",
        "\n",
        "dia_nac = int(input(\"Ingrese el dia de nacimiento: \"))\n",
        "mes_nac = int(input(\"Ingrese el mes de nacimiento: \"))\n",
        "anio_nac = int(input(\"Ingrese el año de nacimiento: \"))\n",
        "\n",
        "dia_actual = int(input(\"Ingrese el dia actual: \"))\n",
        "mes_actual = int(input(\"Ingrese el mes actual: \"))\n",
        "anio_actual = int(input(\"Ingrese el año actual: \"))\n",
        "\n",
        "anio_exac = anio_actual - anio_nac\n",
        "mes_exac = mes_actual - mes_nac\n",
        "dia_exac = dia_actual - dia_nac\n",
        "\n",
        "if dia_exac < 0:\n",
        "    dia_exac += 30\n",
        "    mes_exac -= 1\n",
        "if mes_exac < 0:\n",
        "    mes_exac += 12\n",
        "    anio_exac -= 1\n",
        "\n",
        "print(\"La edad exacta es:\", anio_exac, \"año(s)\", mes_exac, \"mes(es)\", dia_exac, \"día(s)\")"
      ],
      "metadata": {
        "id": "nPYLFK-6PTvu"
      },
      "execution_count": null,
      "outputs": []
    },
    {
      "cell_type": "markdown",
      "source": [
        "Ejercicio Rut.PY"
      ],
      "metadata": {
        "id": "fIDocwh9cbJ4"
      }
    },
    {
      "cell_type": "code",
      "execution_count": null,
      "metadata": {
        "id": "XkFooIFhcLnb"
      },
      "outputs": [],
      "source": [
        "# -*- coding: utf-8 -*-\n",
        "\n",
        "DecMO = int(input(\"Ingresa la decena de millon de su RUN: \"))\n",
        "UniMO = int(input(\"Ingrese la unidad de millon de su RUN: \"))\n",
        "CenMI = int(input(\"Ingrese la centena de mil de su RUN: \"))\n",
        "DecMI = int(input(\"Ingrese la decena de mil de su RUN: \"))\n",
        "UniMI = int(input(\"Ingrese la unidad de mil de su RUN: \"))\n",
        "Cen = int(input(\"Ingrese la centena de su RUN: \"))\n",
        "Dec = int(input(\"Ingrese la decena de su RUN: \"))\n",
        "Uni = int(input(\"Ingrese la unidad de su RUN: \"))\n",
        "\n",
        "Uni *= 2\n",
        "Dec *= 3\n",
        "Cen *= 4\n",
        "UniMI *= 5\n",
        "DecMI *= 6\n",
        "CenMI *= 7\n",
        "UniMO *= 2\n",
        "DecMO *= 3\n",
        "\n",
        "DV = Uni + Dec + Cen + UniMI + DecMI + CenMI + UniMO + DecMO\n",
        "DV %= 11\n",
        "DV = 11 - DV\n",
        "\n",
        "if DV == 11:\n",
        "    print(\"DV: 0\")\n",
        "else:\n",
        "    if DV == 10:\n",
        "        print(\"DV: K\")\n",
        "    else:\n",
        "        print(\"DV:\", DV)"
      ]
    },
    {
      "cell_type": "code",
      "source": [
        "import youtube_dl\n",
        "\n",
        "# URL del video de Youtube\n",
        "video_url = \"TU_URL\"\n",
        "\n",
        "# Configuracion de opciones de descarga\n",
        "ydl_opts = {\n",
        "    'format': 'bestvideo[ext=mp4]+bestaudio'\\\n",
        "              '[ext=mp4]/best[ext=mp4]/best',\n",
        "    'outtmpl': 'video.mp4',\n",
        "}\n",
        "\n",
        "# Descargar el video\n",
        "with youtube_dl.YoutubeDL(ydl_opts) as ydl:\n",
        "  ydl.download([video_url])"
      ],
      "metadata": {
        "id": "TvVxE02wlWpB"
      },
      "execution_count": null,
      "outputs": []
    }
  ]
}